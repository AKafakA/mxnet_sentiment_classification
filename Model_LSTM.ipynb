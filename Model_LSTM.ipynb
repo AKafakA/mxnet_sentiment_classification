{
 "cells": [
  {
   "cell_type": "code",
   "execution_count": 1,
   "metadata": {},
   "outputs": [
    {
     "name": "stderr",
     "output_type": "stream",
     "text": [
      "/Users/dawei/anaconda/envs/gluon/lib/python3.6/site-packages/scipy/sparse/sparsetools.py:20: DeprecationWarning: `scipy.sparse.sparsetools` is deprecated!\n",
      "scipy.sparse.sparsetools is a private module for scipy.sparse, and should not be used.\n",
      "  _deprecated()\n"
     ]
    },
    {
     "name": "stdout",
     "output_type": "stream",
     "text": [
      "[nltk_data] Downloading package punkt to /Users/dawei/nltk_data...\n",
      "[nltk_data]   Package punkt is already up-to-date!\n"
     ]
    },
    {
     "data": {
      "text/plain": [
       "True"
      ]
     },
     "execution_count": 1,
     "metadata": {},
     "output_type": "execute_result"
    }
   ],
   "source": [
    "import math\n",
    "import os\n",
    "import time\n",
    "import numpy as np\n",
    "import mxnet as mx\n",
    "import utils\n",
    "from mxnet import gluon, autograd\n",
    "from mxnet.gluon import nn, rnn\n",
    "from mxnet import ndarray as nd\n",
    "from mxnet.contrib import text\n",
    "from nltk.tokenize import word_tokenize\n",
    "import pandas as pd\n",
    "import numpy as np\n",
    "from collections import defaultdict\n",
    "import matplotlib.pyplot as plt\n",
    "import warnings\n",
    "warnings.filterwarnings(action='ignore', category=UserWarning, module='gensim')\n",
    "import gensim \n",
    "\n",
    "import nltk\n",
    "nltk.download('punkt')"
   ]
  },
  {
   "cell_type": "code",
   "execution_count": 2,
   "metadata": {},
   "outputs": [],
   "source": [
    "#  hyper-parameters \n",
    "model_names = ['gru', 'lstm', 'rnn_relu', 'rnn_tanh']\n",
    "model_name = model_names[0]\n",
    "\n",
    "embed_dim = 300\n",
    "hidden_dim = 100\n",
    "num_layers = 1\n",
    "num_outputs = 5\n",
    "max_length = 30\n",
    "dropout_rate = 0.5\n",
    "#  model parameters\n",
    "\n",
    "lr = 0.02\n",
    "clipping_norm = 10\n",
    "epochs = 40\n",
    "batch_size = 32\n",
    "wd = 5e-4\n",
    "lr_period = 10\n",
    "lr_decay = 0.1\n",
    "epoch_period = 10\n",
    "# optimization parameters\n",
    "\n",
    "ctx = utils.try_gpu()"
   ]
  },
  {
   "cell_type": "code",
   "execution_count": 3,
   "metadata": {
    "collapsed": true
   },
   "outputs": [],
   "source": [
    "class Dictionary(object):\n",
    "    def __init__(self):\n",
    "        self.word_to_idx = {}\n",
    "        self.idx_to_word = []\n",
    "\n",
    "    def add_word(self, word):\n",
    "        if word not in self.word_to_idx:\n",
    "            self.idx_to_word.append(word)\n",
    "            self.word_to_idx[word] = len(self.idx_to_word) - 1\n",
    "        return self.word_to_idx[word]\n",
    "\n",
    "    def __len__(self):\n",
    "        return len(self.idx_to_word)"
   ]
  },
  {
   "cell_type": "code",
   "execution_count": 4,
   "metadata": {
    "collapsed": true
   },
   "outputs": [],
   "source": [
    "class Corpus(object):\n",
    "    \"\"\"corpus of texts \"\"\"\n",
    "    def __init__(self, path, max_length, tokenizer):\n",
    "        self.dictionary = Dictionary()\n",
    "        self.tokenizer = tokenizer\n",
    "        self.train = self.tokenize(path + 'train.txt', max_length)\n",
    "        self.valid = self.tokenize(path + 'valid.txt', max_length)\n",
    "        self.test = self.tokenize(path + 'test.txt', max_length)\n",
    "        \n",
    "    def tokenize(self, path, max_length):\n",
    "        assert os.path.exists(path)\n",
    "        # Add word to dictionary\n",
    "        with open(path, 'r') as f:\n",
    "            sentences = 0\n",
    "            for line in f:\n",
    "                sentence = self.tokenizer(line)\n",
    "                sentence += ['<eos>'] # add the eos to the end of sentences\n",
    "                sentence +=  ['<pad>'] * (max_length - len(sentence))  # add the pading to sentences \n",
    "                for word in sentence:\n",
    "                    self.dictionary.add_word(word)\n",
    "                sentences += 1 \n",
    "        \n",
    "        # Convert all text to NDarray of Index with shape(num_sentences, max_length_sentences)\n",
    "        with open(path, 'r') as f:\n",
    "            indices = np.zeros((sentences, max_length), dtype='int32')\n",
    "            ids = 0\n",
    "            for line in f:\n",
    "                sentence = self.tokenizer(line)\n",
    "                sentence += ['<eos>'] # add the eos to the end of sentences\n",
    "                sentence +=  ['<pad>'] * (max_length - len(sentence))  # add the eos at the end of sentences\n",
    "                for i in range(max_length):\n",
    "                    indices[ids, i] = self.dictionary.word_to_idx[sentence[i]]\n",
    "                ids += 1\n",
    "        return mx.nd.array(indices, dtype='int32')"
   ]
  },
  {
   "cell_type": "code",
   "execution_count": 5,
   "metadata": {
    "collapsed": true
   },
   "outputs": [],
   "source": [
    "data = \"./data/\"\n",
    "corpus = Corpus(data,max_length, word_tokenize)\n",
    "vocab_size = len(corpus.dictionary)\n",
    "word_to_idx = corpus.dictionary.word_to_idx\n",
    "idx_to_word = corpus.dictionary.idx_to_word"
   ]
  },
  {
   "cell_type": "code",
   "execution_count": 6,
   "metadata": {
    "collapsed": true
   },
   "outputs": [],
   "source": [
    "# pre-training word embeding\n",
    "sentences = gensim.models.word2vec.LineSentence(data + 'train.txt')\n",
    "word2vec_model = gensim.models.Word2Vec(sentences, size=embed_dim, window=5, min_count=1, workers=4)\n",
    "pre_embeding = nd.random.uniform(-0.25, 0.25, (vocab_size, embed_dim))\n",
    "for word in idx_to_word:\n",
    "    if word in word2vec_model.wv.vocab:\n",
    "        pre_embeding[word_to_idx[word]-1] = word2vec_model.wv[word]"
   ]
  },
  {
   "cell_type": "code",
   "execution_count": 7,
   "metadata": {
    "collapsed": true
   },
   "outputs": [],
   "source": [
    "class RNNModel(gluon.Block):\n",
    "    \"\"\"RNN modeling\"\"\"\n",
    "    def __init__(self, mode, vocab_size, num_outputs, max_length, embed_dim, hidden_dim,\n",
    "                 num_layers, dropout=0.5, **kwargs):\n",
    "        super(RNNModel, self).__init__(**kwargs)\n",
    "        with self.name_scope():\n",
    "            self.max_length = max_length\n",
    "            self.hidden_dim = hidden_dim\n",
    "            self.dropout = nn.Dropout(dropout)\n",
    "            self.embedding = nn.Embedding(vocab_size, embed_dim,\n",
    "                                        weight_initializer=mx.init.Uniform(0.1))\n",
    "            if mode == 'rnn_relu':\n",
    "                self.rnn = rnn.RNN(hidden_dim, num_layers, activation='relu',\n",
    "                                   dropout=dropout, input_size=embed_dim)\n",
    "            elif mode == 'rnn_tanh':\n",
    "                self.rnn = rnn.RNN(hidden_dim, num_layers, activation='tanh',\n",
    "                                   dropout=dropout, input_size=embed_dim)\n",
    "            elif mode == 'lstm':\n",
    "                self.rnn = rnn.LSTM(hidden_dim, num_layers, dropout=dropout,\n",
    "                                    input_size=embed_dim)\n",
    "            elif mode == 'gru':\n",
    "                self.rnn = rnn.GRU(hidden_dim, num_layers, dropout=dropout,\n",
    "                                   input_size=embed_dim)\n",
    "            else:\n",
    "                raise ValueError(\"Invalid mode %s. Options are rnn_relu, \"\n",
    "                                 \"rnn_tanh, lstm, and gru\"%mode)\n",
    "            self.decoder = nn.Dense(num_outputs)\n",
    "\n",
    "    def forward(self, inputs, state):\n",
    "        emb = self.embedding(inputs).swapaxes(0, 1)\n",
    "        emb = self.dropout(emb)\n",
    "        # shape (len_seq, batch_size, dim_emb)\n",
    "        rnn_out, state = self.rnn(emb, state)\n",
    "        # shape (len_seq, batch_size, hidden_dim)\n",
    "        out = self.decoder(rnn_out.swapaxes(0, 1))\n",
    "        # shape (batch_size, output_dim)\n",
    "        return out\n",
    "\n",
    "    def begin_state(self, *args, **kwargs):\n",
    "        return self.rnn.begin_state(*args, **kwargs)"
   ]
  },
  {
   "cell_type": "code",
   "execution_count": 8,
   "metadata": {
    "collapsed": true
   },
   "outputs": [],
   "source": [
    "label_column = 'fine_grained'\n",
    "label_to_idx = {\"fine_grained\": {\"very negative\": 0, \"negative\": 1, \"neutral\": 2, \"positive\": 3, \"very positive\": 4},\n",
    "                \"raw\": {\"negative\": 0, \"positive\": 1}}\n",
    "y_train = nd.array(pd.read_csv(data + 'train_labels.csv')[label_column].map(label_to_idx[label_column]).values)\n",
    "y_valid = nd.array(pd.read_csv(data + 'valid_labels.csv')[label_column].map(label_to_idx[label_column]).values)\n",
    "y_test = nd.array(pd.read_csv(data + 'test_labels.csv')[label_column].map(label_to_idx[label_column]).values)"
   ]
  },
  {
   "cell_type": "code",
   "execution_count": 9,
   "metadata": {
    "collapsed": true
   },
   "outputs": [],
   "source": [
    "import sys\n",
    "sys.path.append('..')\n",
    "import utils\n",
    "context = utils.try_gpu()\n",
    "\n",
    "train_dataset =gluon.data.ArrayDataset(corpus.train, y_train)\n",
    "valid_dataset = gluon.data.ArrayDataset(corpus.valid, y_valid)\n",
    "test_dataset = gluon.data.ArrayDataset(corpus.test, y_test)\n",
    "\n",
    "train_data = gluon.data.DataLoader(train_dataset, batch_size, shuffle=True, last_batch='discard')\n",
    "valid_data = gluon.data.DataLoader(valid_dataset, batch_size, shuffle=True, last_batch='discard')\n",
    "test_data = gluon.data.DataLoader(test_dataset, batch_size, shuffle=True, last_batch='discard')\n",
    "\n",
    "model = RNNModel(model_name, vocab_size, num_outputs,max_length, embed_dim, hidden_dim,\n",
    "                       num_layers, dropout_rate)\n",
    "\n",
    "model.collect_params().initialize(mx.init.Xavier(), ctx=context)\n",
    "trainer = gluon.Trainer(model.collect_params(), 'sgd',\n",
    "                        {'learning_rate': lr, 'momentum': 0, 'wd': 0})\n",
    "\n",
    "softmax_cross_entropy = gluon.loss.SoftmaxCrossEntropyLoss()"
   ]
  },
  {
   "cell_type": "code",
   "execution_count": 10,
   "metadata": {},
   "outputs": [
    {
     "name": "stdout",
     "output_type": "stream",
     "text": [
      "the valid_acc is 0.199449, and the valid_loss is 0.050418 \n"
     ]
    }
   ],
   "source": [
    "# testing for models and initi performances\n",
    "hidden = model.begin_state(func = mx.nd.zeros, batch_size = batch_size)\n",
    "model.collect_params().initialize(force_reinit=True)\n",
    "cur_valid_acc, cur_valid_loss = utils.evaluate_rnn(softmax_cross_entropy, valid_data, model, hidden, ctx)\n",
    "print(\"the valid_acc is %f, and the valid_loss is %f \" %(cur_valid_acc,cur_valid_loss))"
   ]
  },
  {
   "cell_type": "code",
   "execution_count": 11,
   "metadata": {
    "collapsed": true
   },
   "outputs": [],
   "source": [
    "import datetime\n",
    "\n",
    "def train(model, train_data, valid_data, epochs, lr, wd, lr_period, \n",
    "          lr_decay, epoch_period, clipping_norm, batch_size, max_length, embeding_init ,ctx):\n",
    "    trainer = gluon.Trainer(\n",
    "        model.collect_params(), 'sgd', {'learning_rate': lr, 'momentum': 0.9, 'wd': wd})\n",
    "    prev_time = datetime.datetime.now()   \n",
    "    model.collect_params().initialize(force_reinit=True)\n",
    "    if embeding_init is not None:\n",
    "        w = model.embedding.weight\n",
    "        w.set_data(nd.array(embeding_init)) \n",
    "    valid_loss_set = []\n",
    "    train_loss_set = []\n",
    "    print(\"start\")\n",
    "    for epoch in range(1, epochs + 1):\n",
    "        train_loss = 0.0\n",
    "        train_acc = 0.0\n",
    "        if epoch > 0 and epoch % lr_period == 0:\n",
    "            trainer.set_learning_rate(trainer.learning_rate * lr_decay)\n",
    "            lr *= lr_decay\n",
    "        for data, label in train_data:\n",
    "            label = label.as_in_context(ctx)\n",
    "            hidden = model.begin_state(func = mx.nd.zeros, batch_size = batch_size)\n",
    "            with autograd.record():\n",
    "                output = model(data.as_in_context(ctx), hidden)\n",
    "                loss = softmax_cross_entropy(output, label)    \n",
    "            grads = [i.grad(context) for i in model.collect_params().values()]\n",
    "            gluon.utils.clip_global_norm(grads,clipping_norm * max_length * batch_size)\n",
    "            loss.backward()\n",
    "            trainer.step(batch_size)   \n",
    "            train_loss += nd.mean(loss).asscalar()\n",
    "            train_acc += utils.accuracy(output, label)\n",
    "        cur_time = datetime.datetime.now()\n",
    "        h, remainder = divmod((cur_time - prev_time).seconds, 3600)\n",
    "        m, s = divmod(remainder, 60)\n",
    "        time_str = \"Time %02d:%02d:%02d\" % (h, m, s)\n",
    "        train_loss_set.append(train_loss / len(train_data))       \n",
    "        if valid_data is not None:\n",
    "            hidden = model.begin_state(func = mx.nd.zeros, batch_size = batch_size)\n",
    "            cur_valid_acc, cur_valid_loss = utils.evaluate_rnn(softmax_cross_entropy, valid_data, model, hidden, ctx)\n",
    "            valid_loss_set.append(cur_valid_loss * batch_size)\n",
    "            epoch_str = (\"Epoch %d. Train Loss: %f, Valid Loss: %f, Train acc %f, Valid acc %f, \"\n",
    "                            % (epoch, train_loss / (len(train_data) ), cur_valid_loss * batch_size, train_acc / len(train_data), cur_valid_acc))\n",
    "        else:\n",
    "            epoch_str = (\"Epoch %d. Train Loss: %f, Train acc %f,  \"\n",
    "                            % (epoch, train_loss / (len(train_data) ), train_acc / len(train_data)))\n",
    "        \n",
    "        prev_time = cur_time\n",
    "        if epoch % epoch_period == 0 or epoch == epochs - 1 or epoch == 1:\n",
    "            print(epoch_str + time_str + ', lr ' + str(trainer.learning_rate))                       \n",
    "    if valid_data is not None:\n",
    "        return train_loss_set, valid_loss_set\n",
    "    else:\n",
    "        return train_loss_set"
   ]
  },
  {
   "cell_type": "code",
   "execution_count": 12,
   "metadata": {
    "collapsed": true
   },
   "outputs": [],
   "source": [
    "%matplotlib inline\n",
    "import matplotlib as mpl\n",
    "mpl.rcParams['figure.dpi']= 120\n",
    "import matplotlib.pyplot as plt"
   ]
  },
  {
   "cell_type": "code",
   "execution_count": 13,
   "metadata": {},
   "outputs": [
    {
     "name": "stdout",
     "output_type": "stream",
     "text": [
      "start\n",
      "Epoch 1. Train Loss: 1.589295, Valid Loss: 1.579331, Train acc 0.258310, Valid acc 0.271140, Time 00:00:18, lr 0.02\n",
      "Epoch 10. Train Loss: 1.461200, Valid Loss: 1.527594, Train acc 0.359434, Valid acc 0.302390, Time 00:00:19, lr 0.002\n",
      "Epoch 20. Train Loss: 1.325432, Valid Loss: 1.465370, Train acc 0.438085, Valid acc 0.349265, Time 00:00:19, lr 0.0002\n",
      "Epoch 30. Train Loss: 1.296343, Valid Loss: 1.460108, Train acc 0.448853, Valid acc 0.361213, Time 00:00:18, lr 2e-05\n",
      "Epoch 39. Train Loss: 1.289317, Valid Loss: 1.458427, Train acc 0.451545, Valid acc 0.363971, Time 00:00:18, lr 2e-05\n",
      "Epoch 40. Train Loss: 1.287988, Valid Loss: 1.452730, Train acc 0.455407, Valid acc 0.364890, Time 00:00:18, lr 2.0000000000000003e-06\n"
     ]
    }
   ],
   "source": [
    "train_loss, valid_loss = train(model, train_data, valid_data, epochs, lr, wd, lr_period, \n",
    "                               lr_decay, epoch_period, clipping_norm, batch_size, max_length, pre_embeding, ctx)"
   ]
  },
  {
   "cell_type": "code",
   "execution_count": 16,
   "metadata": {},
   "outputs": [
    {
     "data": {
      "text/plain": [
       "Text(0.5,1,'Normal SGD')"
      ]
     },
     "execution_count": 16,
     "metadata": {},
     "output_type": "execute_result"
    },
    {
     "data": {
      "image/png": "[encoded data removed]",
      "text/plain": [
       "<matplotlib.figure.Figure at 0x11f3bdbe0>"
      ]
     },
     "metadata": {},
     "output_type": "display_data"
    }
   ],
   "source": [
    "plt.plot(train_loss)\n",
    "plt.plot(valid_loss)\n",
    "plt.legend(['train','valid'])\n",
    "plt.xlabel('Num_epoch')\n",
    "plt.ylabel('Loss')\n",
    "plt.title('Normal SGD')"
   ]
  },
  {
   "cell_type": "code",
   "execution_count": 17,
   "metadata": {},
   "outputs": [
    {
     "name": "stdout",
     "output_type": "stream",
     "text": [
      "The test accuracy is 0.358696\n"
     ]
    }
   ],
   "source": [
    "test_accuracy, _ = utils.evaluate_rnn(softmax_cross_entropy, test_data, model, hidden, ctx)\n",
    "print(\"The test accuracy is %f\" %(test_accuracy))"
   ]
  }
 ],
 "metadata": {
  "kernelspec": {
   "display_name": "Python 3",
   "language": "python",
   "name": "python3"
  },
  "language_info": {
   "codemirror_mode": {
    "name": "ipython",
    "version": 3
   },
   "file_extension": ".py",
   "mimetype": "text/x-python",
   "name": "python",
   "nbconvert_exporter": "python",
   "pygments_lexer": "ipython3",
   "version": "3.6.3"
  }
 },
 "nbformat": 4,
 "nbformat_minor": 2
}
